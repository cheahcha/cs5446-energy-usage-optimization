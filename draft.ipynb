{
 "cells": [
  {
   "cell_type": "code",
   "id": "initial_id",
   "metadata": {
    "collapsed": true,
    "ExecuteTime": {
     "end_time": "2024-11-11T08:23:28.390578Z",
     "start_time": "2024-11-11T08:23:28.385868Z"
    }
   },
   "source": [
    "from collections import defaultdict\n",
    "\n",
    "import numpy as np\n",
    "import pandas as pd\n",
    "from Predictor import Predictor\n",
    "import MDP\n",
    "from constants import REGION_LABEL, REGION_CODE_INVERSE, POLICY_MAP, REGION_CODE"
   ],
   "outputs": [],
   "execution_count": 18
  },
  {
   "cell_type": "markdown",
   "id": "3fb5e32e08d9032",
   "metadata": {
    "collapsed": false
   },
   "source": [
    "## Load Data"
   ]
  },
  {
   "cell_type": "code",
   "id": "453f973beee22e76",
   "metadata": {
    "ExecuteTime": {
     "end_time": "2024-11-11T08:05:40.317149Z",
     "start_time": "2024-11-11T08:05:40.305387Z"
    }
   },
   "source": [
    "data = pd.read_csv('./data/region_monthly_electricity_consumption.csv').rename(columns={\"Unnamed: 0\": \"region\"})"
   ],
   "outputs": [],
   "execution_count": 2
  },
  {
   "cell_type": "code",
   "id": "b62c72adbccfaf59",
   "metadata": {
    "ExecuteTime": {
     "end_time": "2024-11-11T08:05:41.265091Z",
     "start_time": "2024-11-11T08:05:41.254637Z"
    }
   },
   "source": [
    "data.head()"
   ],
   "outputs": [
    {
     "data": {
      "text/plain": [
       "           region 2005-01-01 2005-02-01 2005-03-01 2005-04-01 2005-05-01  \\\n",
       "0         Overall      418.1      408.3      446.9      496.2      496.8   \n",
       "1  Central Region      485.4        459      500.2      566.4      573.3   \n",
       "2          Bishan      433.6      420.5      479.2      513.5      516.3   \n",
       "3     Bukit Merah        320      264.9      292.4      358.7      354.2   \n",
       "4     Bukit Timah      963.4      930.5     1035.2     1149.5     1132.3   \n",
       "\n",
       "  2005-06-01 2005-07-01 2005-08-01 2005-09-01  ... 2023-09-01 2023-10-01  \\\n",
       "0      519.7      497.7      489.3      477.7  ...      449.7        463   \n",
       "1      590.1      568.3      551.7      539.5  ...      505.4      523.1   \n",
       "2        545      522.6      507.7      505.8  ...        463      495.7   \n",
       "3        350      358.4      337.8      343.2  ...      368.9      364.2   \n",
       "4     1173.7     1101.2     1051.2       1039  ...      911.5        951   \n",
       "\n",
       "  2023-11-01 2023-12-01 2024-01-01 2024-02-01 2024-03-01 2024-04-01  \\\n",
       "0      457.3      415.9      384.1      394.9      423.7        491   \n",
       "1      527.6      481.4      442.7      436.7      478.9      553.5   \n",
       "2      471.5      429.1      379.6      416.1      471.4        498   \n",
       "3      384.9      346.4      341.6      301.1      330.2      389.9   \n",
       "4      916.9      834.9      797.2      760.7      876.8     1012.1   \n",
       "\n",
       "  2024-05-01 2024-06-01  \n",
       "0      482.9      464.1  \n",
       "1      558.8      524.8  \n",
       "2      485.4      489.9  \n",
       "3      421.9      380.2  \n",
       "4      938.6      856.5  \n",
       "\n",
       "[5 rows x 235 columns]"
      ],
      "text/html": [
       "<div>\n",
       "<style scoped>\n",
       "    .dataframe tbody tr th:only-of-type {\n",
       "        vertical-align: middle;\n",
       "    }\n",
       "\n",
       "    .dataframe tbody tr th {\n",
       "        vertical-align: top;\n",
       "    }\n",
       "\n",
       "    .dataframe thead th {\n",
       "        text-align: right;\n",
       "    }\n",
       "</style>\n",
       "<table border=\"1\" class=\"dataframe\">\n",
       "  <thead>\n",
       "    <tr style=\"text-align: right;\">\n",
       "      <th></th>\n",
       "      <th>region</th>\n",
       "      <th>2005-01-01</th>\n",
       "      <th>2005-02-01</th>\n",
       "      <th>2005-03-01</th>\n",
       "      <th>2005-04-01</th>\n",
       "      <th>2005-05-01</th>\n",
       "      <th>2005-06-01</th>\n",
       "      <th>2005-07-01</th>\n",
       "      <th>2005-08-01</th>\n",
       "      <th>2005-09-01</th>\n",
       "      <th>...</th>\n",
       "      <th>2023-09-01</th>\n",
       "      <th>2023-10-01</th>\n",
       "      <th>2023-11-01</th>\n",
       "      <th>2023-12-01</th>\n",
       "      <th>2024-01-01</th>\n",
       "      <th>2024-02-01</th>\n",
       "      <th>2024-03-01</th>\n",
       "      <th>2024-04-01</th>\n",
       "      <th>2024-05-01</th>\n",
       "      <th>2024-06-01</th>\n",
       "    </tr>\n",
       "  </thead>\n",
       "  <tbody>\n",
       "    <tr>\n",
       "      <th>0</th>\n",
       "      <td>Overall</td>\n",
       "      <td>418.1</td>\n",
       "      <td>408.3</td>\n",
       "      <td>446.9</td>\n",
       "      <td>496.2</td>\n",
       "      <td>496.8</td>\n",
       "      <td>519.7</td>\n",
       "      <td>497.7</td>\n",
       "      <td>489.3</td>\n",
       "      <td>477.7</td>\n",
       "      <td>...</td>\n",
       "      <td>449.7</td>\n",
       "      <td>463</td>\n",
       "      <td>457.3</td>\n",
       "      <td>415.9</td>\n",
       "      <td>384.1</td>\n",
       "      <td>394.9</td>\n",
       "      <td>423.7</td>\n",
       "      <td>491</td>\n",
       "      <td>482.9</td>\n",
       "      <td>464.1</td>\n",
       "    </tr>\n",
       "    <tr>\n",
       "      <th>1</th>\n",
       "      <td>Central Region</td>\n",
       "      <td>485.4</td>\n",
       "      <td>459</td>\n",
       "      <td>500.2</td>\n",
       "      <td>566.4</td>\n",
       "      <td>573.3</td>\n",
       "      <td>590.1</td>\n",
       "      <td>568.3</td>\n",
       "      <td>551.7</td>\n",
       "      <td>539.5</td>\n",
       "      <td>...</td>\n",
       "      <td>505.4</td>\n",
       "      <td>523.1</td>\n",
       "      <td>527.6</td>\n",
       "      <td>481.4</td>\n",
       "      <td>442.7</td>\n",
       "      <td>436.7</td>\n",
       "      <td>478.9</td>\n",
       "      <td>553.5</td>\n",
       "      <td>558.8</td>\n",
       "      <td>524.8</td>\n",
       "    </tr>\n",
       "    <tr>\n",
       "      <th>2</th>\n",
       "      <td>Bishan</td>\n",
       "      <td>433.6</td>\n",
       "      <td>420.5</td>\n",
       "      <td>479.2</td>\n",
       "      <td>513.5</td>\n",
       "      <td>516.3</td>\n",
       "      <td>545</td>\n",
       "      <td>522.6</td>\n",
       "      <td>507.7</td>\n",
       "      <td>505.8</td>\n",
       "      <td>...</td>\n",
       "      <td>463</td>\n",
       "      <td>495.7</td>\n",
       "      <td>471.5</td>\n",
       "      <td>429.1</td>\n",
       "      <td>379.6</td>\n",
       "      <td>416.1</td>\n",
       "      <td>471.4</td>\n",
       "      <td>498</td>\n",
       "      <td>485.4</td>\n",
       "      <td>489.9</td>\n",
       "    </tr>\n",
       "    <tr>\n",
       "      <th>3</th>\n",
       "      <td>Bukit Merah</td>\n",
       "      <td>320</td>\n",
       "      <td>264.9</td>\n",
       "      <td>292.4</td>\n",
       "      <td>358.7</td>\n",
       "      <td>354.2</td>\n",
       "      <td>350</td>\n",
       "      <td>358.4</td>\n",
       "      <td>337.8</td>\n",
       "      <td>343.2</td>\n",
       "      <td>...</td>\n",
       "      <td>368.9</td>\n",
       "      <td>364.2</td>\n",
       "      <td>384.9</td>\n",
       "      <td>346.4</td>\n",
       "      <td>341.6</td>\n",
       "      <td>301.1</td>\n",
       "      <td>330.2</td>\n",
       "      <td>389.9</td>\n",
       "      <td>421.9</td>\n",
       "      <td>380.2</td>\n",
       "    </tr>\n",
       "    <tr>\n",
       "      <th>4</th>\n",
       "      <td>Bukit Timah</td>\n",
       "      <td>963.4</td>\n",
       "      <td>930.5</td>\n",
       "      <td>1035.2</td>\n",
       "      <td>1149.5</td>\n",
       "      <td>1132.3</td>\n",
       "      <td>1173.7</td>\n",
       "      <td>1101.2</td>\n",
       "      <td>1051.2</td>\n",
       "      <td>1039</td>\n",
       "      <td>...</td>\n",
       "      <td>911.5</td>\n",
       "      <td>951</td>\n",
       "      <td>916.9</td>\n",
       "      <td>834.9</td>\n",
       "      <td>797.2</td>\n",
       "      <td>760.7</td>\n",
       "      <td>876.8</td>\n",
       "      <td>1012.1</td>\n",
       "      <td>938.6</td>\n",
       "      <td>856.5</td>\n",
       "    </tr>\n",
       "  </tbody>\n",
       "</table>\n",
       "<p>5 rows × 235 columns</p>\n",
       "</div>"
      ]
     },
     "execution_count": 3,
     "metadata": {},
     "output_type": "execute_result"
    }
   ],
   "execution_count": 3
  },
  {
   "cell_type": "markdown",
   "id": "f8a4eb986ac1856d",
   "metadata": {
    "collapsed": false
   },
   "source": [
    "## Train Time Series Predictor"
   ]
  },
  {
   "cell_type": "code",
   "id": "416a58316373a962",
   "metadata": {
    "collapsed": false,
    "ExecuteTime": {
     "end_time": "2024-11-11T08:05:47.083945Z",
     "start_time": "2024-11-11T08:05:42.655528Z"
    }
   },
   "source": [
    "predictor = Predictor(data)"
   ],
   "outputs": [
    {
     "name": "stderr",
     "output_type": "stream",
     "text": [
      "16:05:42 - cmdstanpy - INFO - Chain [1] start processing\n",
      "16:05:42 - cmdstanpy - INFO - Chain [1] done processing\n",
      "16:05:42 - cmdstanpy - INFO - Chain [1] start processing\n",
      "16:05:42 - cmdstanpy - INFO - Chain [1] done processing\n",
      "16:05:42 - cmdstanpy - INFO - Chain [1] start processing\n",
      "16:05:42 - cmdstanpy - INFO - Chain [1] done processing\n",
      "16:05:42 - cmdstanpy - INFO - Chain [1] start processing\n",
      "16:05:42 - cmdstanpy - INFO - Chain [1] done processing\n",
      "16:05:42 - cmdstanpy - INFO - Chain [1] start processing\n",
      "16:05:42 - cmdstanpy - INFO - Chain [1] done processing\n",
      "16:05:42 - cmdstanpy - INFO - Chain [1] start processing\n",
      "16:05:42 - cmdstanpy - INFO - Chain [1] done processing\n",
      "16:05:43 - cmdstanpy - INFO - Chain [1] start processing\n",
      "16:05:43 - cmdstanpy - INFO - Chain [1] done processing\n",
      "16:05:43 - cmdstanpy - INFO - Chain [1] start processing\n",
      "16:05:43 - cmdstanpy - INFO - Chain [1] done processing\n",
      "16:05:43 - cmdstanpy - INFO - Chain [1] start processing\n",
      "16:05:43 - cmdstanpy - INFO - Chain [1] done processing\n",
      "16:05:43 - cmdstanpy - INFO - Chain [1] start processing\n",
      "16:05:43 - cmdstanpy - INFO - Chain [1] done processing\n",
      "16:05:43 - cmdstanpy - INFO - Chain [1] start processing\n",
      "16:05:43 - cmdstanpy - INFO - Chain [1] done processing\n",
      "16:05:43 - cmdstanpy - INFO - Chain [1] start processing\n",
      "16:05:43 - cmdstanpy - INFO - Chain [1] done processing\n",
      "16:05:43 - cmdstanpy - INFO - Chain [1] start processing\n",
      "16:05:43 - cmdstanpy - INFO - Chain [1] done processing\n",
      "16:05:43 - cmdstanpy - INFO - Chain [1] start processing\n",
      "16:05:43 - cmdstanpy - INFO - Chain [1] done processing\n",
      "16:05:43 - cmdstanpy - INFO - Chain [1] start processing\n",
      "16:05:43 - cmdstanpy - INFO - Chain [1] done processing\n",
      "16:05:43 - cmdstanpy - INFO - Chain [1] start processing\n",
      "16:05:43 - cmdstanpy - INFO - Chain [1] done processing\n",
      "16:05:43 - cmdstanpy - INFO - Chain [1] start processing\n",
      "16:05:43 - cmdstanpy - INFO - Chain [1] done processing\n",
      "16:05:43 - cmdstanpy - INFO - Chain [1] start processing\n",
      "16:05:43 - cmdstanpy - INFO - Chain [1] done processing\n",
      "16:05:43 - cmdstanpy - INFO - Chain [1] start processing\n",
      "16:05:43 - cmdstanpy - INFO - Chain [1] done processing\n",
      "16:05:43 - cmdstanpy - INFO - Chain [1] start processing\n",
      "16:05:43 - cmdstanpy - INFO - Chain [1] done processing\n",
      "16:05:43 - cmdstanpy - INFO - Chain [1] start processing\n",
      "16:05:43 - cmdstanpy - INFO - Chain [1] done processing\n",
      "16:05:43 - cmdstanpy - INFO - Chain [1] start processing\n",
      "16:05:43 - cmdstanpy - INFO - Chain [1] done processing\n",
      "16:05:43 - cmdstanpy - INFO - Chain [1] start processing\n",
      "16:05:43 - cmdstanpy - INFO - Chain [1] done processing\n",
      "16:05:43 - cmdstanpy - INFO - Chain [1] start processing\n",
      "16:05:43 - cmdstanpy - INFO - Chain [1] done processing\n",
      "16:05:43 - cmdstanpy - INFO - Chain [1] start processing\n",
      "16:05:43 - cmdstanpy - INFO - Chain [1] done processing\n",
      "16:05:43 - cmdstanpy - INFO - Chain [1] start processing\n",
      "16:05:43 - cmdstanpy - INFO - Chain [1] done processing\n",
      "16:05:43 - cmdstanpy - INFO - Chain [1] start processing\n",
      "16:05:43 - cmdstanpy - INFO - Chain [1] done processing\n",
      "16:05:43 - cmdstanpy - INFO - Chain [1] start processing\n",
      "16:05:43 - cmdstanpy - INFO - Chain [1] done processing\n",
      "16:05:43 - cmdstanpy - INFO - Chain [1] start processing\n",
      "16:05:43 - cmdstanpy - INFO - Chain [1] done processing\n",
      "16:05:43 - cmdstanpy - INFO - Chain [1] start processing\n",
      "16:05:43 - cmdstanpy - INFO - Chain [1] done processing\n",
      "16:05:43 - cmdstanpy - INFO - Chain [1] start processing\n",
      "16:05:43 - cmdstanpy - INFO - Chain [1] done processing\n",
      "16:05:43 - cmdstanpy - INFO - Chain [1] start processing\n",
      "16:05:43 - cmdstanpy - INFO - Chain [1] done processing\n",
      "16:05:43 - cmdstanpy - INFO - Chain [1] start processing\n",
      "16:05:43 - cmdstanpy - INFO - Chain [1] done processing\n",
      "16:05:43 - cmdstanpy - INFO - Chain [1] start processing\n",
      "16:05:43 - cmdstanpy - INFO - Chain [1] done processing\n",
      "16:05:43 - cmdstanpy - INFO - Chain [1] start processing\n",
      "16:05:43 - cmdstanpy - INFO - Chain [1] done processing\n",
      "16:05:43 - cmdstanpy - INFO - Chain [1] start processing\n",
      "16:05:43 - cmdstanpy - INFO - Chain [1] done processing\n",
      "16:05:43 - cmdstanpy - INFO - Chain [1] start processing\n",
      "16:05:43 - cmdstanpy - INFO - Chain [1] done processing\n",
      "16:05:43 - cmdstanpy - INFO - Chain [1] start processing\n",
      "16:05:43 - cmdstanpy - INFO - Chain [1] done processing\n",
      "16:05:43 - cmdstanpy - INFO - Chain [1] start processing\n",
      "16:05:43 - cmdstanpy - INFO - Chain [1] done processing\n",
      "16:05:43 - cmdstanpy - INFO - Chain [1] start processing\n",
      "16:05:43 - cmdstanpy - INFO - Chain [1] done processing\n",
      "16:05:43 - cmdstanpy - INFO - Chain [1] start processing\n",
      "16:05:44 - cmdstanpy - INFO - Chain [1] done processing\n",
      "16:05:44 - cmdstanpy - INFO - Chain [1] start processing\n",
      "16:05:44 - cmdstanpy - INFO - Chain [1] done processing\n",
      "16:05:44 - cmdstanpy - INFO - Chain [1] start processing\n",
      "16:05:44 - cmdstanpy - INFO - Chain [1] done processing\n",
      "16:05:44 - cmdstanpy - INFO - Chain [1] start processing\n",
      "16:05:44 - cmdstanpy - INFO - Chain [1] done processing\n",
      "16:05:44 - cmdstanpy - INFO - Chain [1] start processing\n",
      "16:05:44 - cmdstanpy - INFO - Chain [1] done processing\n",
      "16:05:44 - cmdstanpy - INFO - Chain [1] start processing\n",
      "16:05:44 - cmdstanpy - INFO - Chain [1] done processing\n",
      "16:05:44 - cmdstanpy - INFO - Chain [1] start processing\n",
      "16:05:44 - cmdstanpy - INFO - Chain [1] done processing\n",
      "16:05:44 - cmdstanpy - INFO - Chain [1] start processing\n",
      "16:05:47 - cmdstanpy - INFO - Chain [1] done processing\n"
     ]
    }
   ],
   "execution_count": 4
  },
  {
   "cell_type": "code",
   "id": "b4044372d86d987e",
   "metadata": {
    "ExecuteTime": {
     "end_time": "2024-11-11T08:06:14.079176Z",
     "start_time": "2024-11-11T08:06:14.054242Z"
    }
   },
   "source": "predictor.predict(\"Geylang\", \"2025-06\")",
   "outputs": [
    {
     "name": "stdout",
     "output_type": "stream",
     "text": [
      "Geylang 2025-06 -> 446.5758261288765 [434.96666666666664, 475.2]\n",
      "Primary region type: residential -> State: 1\n"
     ]
    },
    {
     "data": {
      "text/plain": [
       "1"
      ]
     },
     "execution_count": 6,
     "metadata": {},
     "output_type": "execute_result"
    }
   ],
   "execution_count": 6
  },
  {
   "cell_type": "markdown",
   "id": "d757d4b9340a6335",
   "metadata": {
    "collapsed": false
   },
   "source": [
    "## Run MDP"
   ]
  },
  {
   "cell_type": "code",
   "id": "f0b976c5309fd208",
   "metadata": {
    "collapsed": false,
    "ExecuteTime": {
     "end_time": "2024-11-11T08:06:21.692594Z",
     "start_time": "2024-11-11T08:06:21.274821Z"
    }
   },
   "source": [
    "P = MDP.make_transition_prob(data)"
   ],
   "outputs": [],
   "execution_count": 7
  },
  {
   "cell_type": "code",
   "id": "cefc42bb3800acf7",
   "metadata": {
    "collapsed": false,
    "ExecuteTime": {
     "end_time": "2024-11-11T08:06:21.701854Z",
     "start_time": "2024-11-11T08:06:21.699753Z"
    }
   },
   "source": [
    "R_holiday = MDP.make_rewards(\"holiday\")\n",
    "R_common = MDP.make_rewards(\"common\")"
   ],
   "outputs": [],
   "execution_count": 8
  },
  {
   "cell_type": "code",
   "id": "a87c671eb562535e",
   "metadata": {
    "collapsed": false,
    "ExecuteTime": {
     "end_time": "2024-11-11T08:06:22.458230Z",
     "start_time": "2024-11-11T08:06:22.455798Z"
    }
   },
   "source": [
    "mdp_common = MDP.MDP(P, R_common, 0.6)\n",
    "mdp_holiday = MDP.MDP(P, R_holiday, 0.6)"
   ],
   "outputs": [],
   "execution_count": 9
  },
  {
   "cell_type": "code",
   "id": "110c8d24369665cc",
   "metadata": {
    "collapsed": false,
    "ExecuteTime": {
     "end_time": "2024-11-11T08:06:23.911261Z",
     "start_time": "2024-11-11T08:06:23.844507Z"
    }
   },
   "source": [
    "policy_holiday = mdp_holiday.get_policy()\n",
    "policy_common = mdp_common.get_policy()"
   ],
   "outputs": [],
   "execution_count": 10
  },
  {
   "cell_type": "code",
   "id": "7b3a1eb254b02b88",
   "metadata": {
    "collapsed": false,
    "ExecuteTime": {
     "end_time": "2024-11-11T08:06:24.436221Z",
     "start_time": "2024-11-11T08:06:24.432080Z"
    }
   },
   "source": "policy_holiday",
   "outputs": [
    {
     "data": {
      "text/plain": [
       "(0, 0, 0, 1, 1, 1, 0, 2, 2, 2, 2, 2)"
      ]
     },
     "execution_count": 11,
     "metadata": {},
     "output_type": "execute_result"
    }
   ],
   "execution_count": 11
  },
  {
   "metadata": {
    "ExecuteTime": {
     "end_time": "2024-11-11T08:06:25.266474Z",
     "start_time": "2024-11-11T08:06:25.261742Z"
    }
   },
   "cell_type": "code",
   "source": "policy_common",
   "id": "a28e68d27bd04105",
   "outputs": [
    {
     "data": {
      "text/plain": [
       "(0, 0, 0, 1, 1, 1, 1, 1, 1, 2, 2, 2)"
      ]
     },
     "execution_count": 12,
     "metadata": {},
     "output_type": "execute_result"
    }
   ],
   "execution_count": 12
  },
  {
   "cell_type": "markdown",
   "id": "868d8cb3d47993aa",
   "metadata": {
    "collapsed": false
   },
   "source": [
    "## Optimize"
   ]
  },
  {
   "metadata": {
    "ExecuteTime": {
     "end_time": "2024-11-11T08:27:03.062569Z",
     "start_time": "2024-11-11T08:27:03.058789Z"
    }
   },
   "cell_type": "code",
   "source": [
    "def vote(region: str, code: int, policy: tuple):\n",
    "    region_break = REGION_LABEL[region]\n",
    "    power_demand = code % 3\n",
    "    action_map = defaultdict(float)\n",
    "    for region_type in region_break:\n",
    "        action_code = policy[REGION_CODE[region_type] * 3 + power_demand]\n",
    "        action_map[action_code] += region_break[region_type]\n",
    "    return max(action_map, key=action_map.get)"
   ],
   "id": "894f1d4d88ca9452",
   "outputs": [],
   "execution_count": 29
  },
  {
   "cell_type": "code",
   "id": "ec2a35befe7aaf2",
   "metadata": {
    "collapsed": false,
    "ExecuteTime": {
     "end_time": "2024-11-11T08:27:03.683410Z",
     "start_time": "2024-11-11T08:27:03.216754Z"
    }
   },
   "source": [
    "for region in REGION_LABEL:\n",
    "    code = predictor.predict(region, \"2024-12\")\n",
    "    dominant_region_type = REGION_CODE_INVERSE[code // 4]\n",
    "    action_code = vote(region, code, policy_common)\n",
    "    action = POLICY_MAP[action_code]\n",
    "    print(f\"{region} - {dominant_region_type}: {action}\")"
   ],
   "outputs": [
    {
     "name": "stdout",
     "output_type": "stream",
     "text": [
      "Central Region 2024-12 -> 479.70851351145876 [504.26666666666665, 551.5]\n",
      "Primary region type: commercial -> State: 3\n",
      "Central Region - residential: Increase supply\n",
      "East Region 2024-12 -> 409.72116262492034 [450.03333333333336, 494.4]\n",
      "Primary region type: residential -> State: 0\n",
      "East Region - residential: Keep supply as this\n",
      "North East Region 2024-12 -> 404.7515312164638 [414.3666666666667, 449.73333333333335]\n",
      "Primary region type: residential -> State: 0\n",
      "North East Region - residential: Keep supply as this\n",
      "North Region 2024-12 -> 387.96674763803867 [394.76666666666665, 424.4]\n",
      "Primary region type: residential -> State: 0\n",
      "North Region - residential: Keep supply as this\n",
      "West Region 2024-12 -> 385.1931854206348 [392.3666666666667, 425.19999999999993]\n",
      "Primary region type: residential -> State: 0\n",
      "West Region - residential: Keep supply as this\n",
      "Bishan 2024-12 -> 433.7488774829808 [457.1333333333333, 498.3666666666666]\n",
      "Primary region type: residential -> State: 0\n",
      "Bishan - residential: Keep supply as this\n",
      "Bukit Merah 2024-12 -> 339.8366294061475 [339.23333333333335, 367.59999999999997]\n",
      "Primary region type: residential -> State: 1\n",
      "Bukit Merah - residential: Keep supply as this\n",
      "Bukit Timah 2024-12 -> 846.7141267130271 [916.5333333333333, 999.8999999999999]\n",
      "Primary region type: residential -> State: 0\n",
      "Bukit Timah - residential: Keep supply as this\n",
      "Downtown Core 2024-12 -> 498.48289949928136 [423.96666666666664, 482.73333333333323]\n",
      "Primary region type: commercial -> State: 5\n",
      "Downtown Core - commercial: Increase supply\n",
      "Geylang 2024-12 -> 396.98278444022327 [434.96666666666664, 475.2]\n",
      "Primary region type: residential -> State: 0\n",
      "Geylang - residential: Keep supply as this\n",
      "Kallang 2024-12 -> 373.4069349942248 [392.6333333333333, 428.5]\n",
      "Primary region type: residential -> State: 0\n",
      "Kallang - residential: Keep supply as this\n",
      "Marine Parade 2024-12 -> 552.5636876616984 [574.4666666666667, 620.2666666666667]\n",
      "Primary region type: residential -> State: 0\n",
      "Marine Parade - residential: Keep supply as this\n",
      "Museum 2024-12 -> 501.7907093047305 [550.9666666666667, 639.2333333333332]\n",
      "Primary region type: commercial -> State: 3\n",
      "Museum - residential: Increase supply\n",
      "Newton 2024-12 -> 940.456291765638 [974.0, 1153.2333333333333]\n",
      "Primary region type: residential -> State: 0\n",
      "Newton - residential: Keep supply as this\n",
      "Novena 2024-12 -> 621.8682990398954 [629.0, 690.1999999999999]\n",
      "Primary region type: residential -> State: 0\n",
      "Novena - residential: Keep supply as this\n",
      "Orchard 2024-12 -> 775.9625396339093 [910.4333333333333, 1065.0]\n",
      "Primary region type: commercial -> State: 3\n",
      "Orchard - residential: Increase supply\n",
      "Outram 2024-12 -> 294.4653472015896 [318.96666666666664, 350.9333333333332]\n",
      "Primary region type: commercial -> State: 3\n",
      "Outram - residential: Increase supply\n",
      "Queenstown 2024-12 -> 342.5577053959288 [360.8, 394.19999999999993]\n",
      "Primary region type: residential -> State: 0\n",
      "Queenstown - residential: Keep supply as this\n",
      "River Valley 2024-12 -> 804.0681456180594 [818.0333333333334, 933.8333333333333]\n",
      "Primary region type: residential -> State: 0\n",
      "River Valley - residential: Keep supply as this\n",
      "Rochor 2024-12 -> 414.88721724005836 [438.4, 472.76666666666665]\n",
      "Primary region type: commercial -> State: 3\n",
      "Rochor - residential: Increase supply\n",
      "Singapore River 2024-12 -> 703.219345378212 [663.3, 739.0]\n",
      "Primary region type: commercial -> State: 4\n",
      "Singapore River - commercial: Increase supply\n",
      "Southern Islands 2024-12 -> 1808.6829954837795 [1568.1666666666665, 1835.7333333333331]\n",
      "Primary region type: others -> State: 10\n",
      "Southern Islands - industrial: Decrease supply\n",
      "Tanglin 2024-12 -> 971.6693078712572 [1089.2, 1217.3666666666668]\n",
      "Primary region type: residential -> State: 0\n",
      "Tanglin - residential: Keep supply as this\n",
      "Toa Payoh 2024-12 -> 337.50255486251376 [357.4333333333333, 385.93333333333334]\n",
      "Primary region type: residential -> State: 0\n",
      "Toa Payoh - residential: Keep supply as this\n",
      "Bedok 2024-12 -> 431.35320013420477 [464.2, 506.59999999999997]\n",
      "Primary region type: residential -> State: 0\n",
      "Bedok - residential: Keep supply as this\n",
      "Changi 2024-12 -> 402.4270276735813 [415.8666666666666, 449.26666666666665]\n",
      "Primary region type: industrial -> State: 6\n",
      "Changi - commercial: Increase supply\n",
      "Pasir Ris 2024-12 -> 447.0974098769811 [483.93333333333334, 538.2999999999998]\n",
      "Primary region type: residential -> State: 0\n",
      "Pasir Ris - residential: Keep supply as this\n",
      "Paya Lebar 2024-12 -> 1358.888561973744 [323.2, 1164.2999999999995]\n",
      "Primary region type: residential -> State: 2\n",
      "Paya Lebar - residential: Keep supply as this\n",
      "Tampines 2024-12 -> 365.75910985337697 [414.96666666666664, 457.93333333333334]\n",
      "Primary region type: residential -> State: 0\n",
      "Tampines - residential: Keep supply as this\n",
      "Ang Mo Kio 2024-12 -> 356.3265499047376 [361.4, 388.26666666666665]\n",
      "Primary region type: residential -> State: 0\n",
      "Ang Mo Kio - residential: Keep supply as this\n",
      "Hougang 2024-12 -> 404.29820337807803 [434.93333333333334, 475.7]\n",
      "Primary region type: residential -> State: 0\n",
      "Hougang - residential: Keep supply as this\n",
      "Punggol 2024-12 -> 387.6188303376469 [361.6, 401.09999999999997]\n",
      "Primary region type: residential -> State: 1\n",
      "Punggol - residential: Keep supply as this\n",
      "Seletar 2024-12 -> 878.444454352229 [808.0333333333333, 884.1333333333333]\n",
      "Primary region type: industrial -> State: 7\n",
      "Seletar - commercial: Increase supply\n",
      "Sengkang 2024-12 -> 395.83348423002747 [382.59999999999997, 415.9]\n",
      "Primary region type: residential -> State: 1\n",
      "Sengkang - residential: Keep supply as this\n",
      "Serangoon 2024-12 -> 524.4937308061586 [554.7666666666667, 602.5333333333333]\n",
      "Primary region type: residential -> State: 0\n",
      "Serangoon - residential: Keep supply as this\n",
      "Mandai 2024-12 -> 590.6515411295937 [625.5666666666667, 672.9333333333333]\n",
      "Primary region type: industrial -> State: 6\n",
      "Mandai - commercial: Increase supply\n",
      "Sembawang 2024-12 -> 389.72257249481504 [408.0333333333333, 435.53333333333336]\n",
      "Primary region type: residential -> State: 0\n",
      "Sembawang - residential: Keep supply as this\n",
      "Sungei Kadut 2024-12 -> 952.7103798903181 [879.8333333333333, 1025.5666666666666]\n",
      "Primary region type: industrial -> State: 7\n",
      "Sungei Kadut - commercial: Increase supply\n",
      "Woodlands 2024-12 -> 390.8672866912324 [399.0333333333333, 429.1]\n",
      "Primary region type: residential -> State: 0\n",
      "Woodlands - residential: Keep supply as this\n",
      "Yishun 2024-12 -> 373.80044837033233 [378.23333333333335, 409.8666666666666]\n",
      "Primary region type: residential -> State: 0\n",
      "Yishun - residential: Keep supply as this\n",
      "Bukit Batok 2024-12 -> 350.86348093457167 [383.46666666666664, 425.8666666666666]\n",
      "Primary region type: residential -> State: 0\n",
      "Bukit Batok - residential: Keep supply as this\n",
      "Bukit Panjang 2024-12 -> 400.1723490711693 [398.8666666666667, 433.06666666666666]\n",
      "Primary region type: residential -> State: 1\n",
      "Bukit Panjang - residential: Keep supply as this\n",
      "Choa Chu Kang 2024-12 -> 389.6356361621839 [403.3, 435.9333333333333]\n",
      "Primary region type: residential -> State: 0\n",
      "Choa Chu Kang - residential: Keep supply as this\n",
      "Clementi 2024-12 -> 386.19863523306503 [389.8333333333333, 424.3999999999999]\n",
      "Primary region type: residential -> State: 0\n",
      "Clementi - residential: Keep supply as this\n",
      "Jurong East 2024-12 -> 353.1070706458725 [367.7, 401.7]\n",
      "Primary region type: commercial -> State: 3\n",
      "Jurong East - residential: Increase supply\n",
      "Jurong West 2024-12 -> 407.7913497678511 [395.46666666666664, 424.8666666666667]\n",
      "Primary region type: residential -> State: 1\n",
      "Jurong West - residential: Keep supply as this\n",
      "Pioneer 2024-12 -> 21.487882579554668 [276.5, 351.19999999999993]\n",
      "Primary region type: industrial -> State: 6\n",
      "Pioneer - commercial: Increase supply\n",
      "Tengah 2024-12 -> 191.6483122456574 [27.999999999999993, 75.69999999999999]\n",
      "Primary region type: residential -> State: 2\n",
      "Tengah - residential: Keep supply as this\n"
     ]
    }
   ],
   "execution_count": 30
  },
  {
   "metadata": {
    "ExecuteTime": {
     "end_time": "2024-11-07T13:06:32.517917Z",
     "start_time": "2024-11-07T13:06:32.516222Z"
    }
   },
   "cell_type": "code",
   "source": "",
   "id": "1915e350f44fba9a",
   "outputs": [],
   "execution_count": null
  },
  {
   "metadata": {},
   "cell_type": "code",
   "outputs": [],
   "execution_count": null,
   "source": "",
   "id": "a204fbf7a4bb4de"
  }
 ],
 "metadata": {
  "kernelspec": {
   "display_name": "Python 3",
   "language": "python",
   "name": "python3"
  },
  "language_info": {
   "codemirror_mode": {
    "name": "ipython",
    "version": 2
   },
   "file_extension": ".py",
   "mimetype": "text/x-python",
   "name": "python",
   "nbconvert_exporter": "python",
   "pygments_lexer": "ipython2",
   "version": "2.7.6"
  }
 },
 "nbformat": 4,
 "nbformat_minor": 5
}
