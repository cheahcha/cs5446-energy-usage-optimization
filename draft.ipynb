{
 "cells": [
  {
   "cell_type": "code",
   "execution_count": 12,
   "id": "initial_id",
   "metadata": {
    "ExecuteTime": {
     "end_time": "2024-11-06T14:56:33.016646Z",
     "start_time": "2024-11-06T14:56:33.012237Z"
    },
    "collapsed": true
   },
   "outputs": [],
   "source": [
    "import pandas as pd\n",
    "from Predictor import Predictor\n",
    "import MDP\n",
    "from utils import REGION_LABEL, REGION_CODE_INVERSE, POLICY_MAP"
   ]
  },
  {
   "cell_type": "markdown",
   "id": "3fb5e32e08d9032",
   "metadata": {
    "collapsed": false
   },
   "source": [
    "## Load Data"
   ]
  },
  {
   "cell_type": "code",
   "execution_count": 2,
   "id": "453f973beee22e76",
   "metadata": {
    "ExecuteTime": {
     "end_time": "2024-11-06T14:55:21.502453Z",
     "start_time": "2024-11-06T14:55:21.490981Z"
    }
   },
   "outputs": [],
   "source": [
    "data = pd.read_csv('./data/region_monthly_electricity_consumption.csv').rename(columns={\"Unnamed: 0\": \"region\"})"
   ]
  },
  {
   "cell_type": "code",
   "execution_count": 3,
   "id": "b62c72adbccfaf59",
   "metadata": {
    "ExecuteTime": {
     "end_time": "2024-11-06T14:55:21.689332Z",
     "start_time": "2024-11-06T14:55:21.681934Z"
    }
   },
   "outputs": [
    {
     "data": {
      "text/html": [
       "<div>\n",
       "<style scoped>\n",
       "    .dataframe tbody tr th:only-of-type {\n",
       "        vertical-align: middle;\n",
       "    }\n",
       "\n",
       "    .dataframe tbody tr th {\n",
       "        vertical-align: top;\n",
       "    }\n",
       "\n",
       "    .dataframe thead th {\n",
       "        text-align: right;\n",
       "    }\n",
       "</style>\n",
       "<table border=\"1\" class=\"dataframe\">\n",
       "  <thead>\n",
       "    <tr style=\"text-align: right;\">\n",
       "      <th></th>\n",
       "      <th>region</th>\n",
       "      <th>2005-01-01</th>\n",
       "      <th>2005-02-01</th>\n",
       "      <th>2005-03-01</th>\n",
       "      <th>2005-04-01</th>\n",
       "      <th>2005-05-01</th>\n",
       "      <th>2005-06-01</th>\n",
       "      <th>2005-07-01</th>\n",
       "      <th>2005-08-01</th>\n",
       "      <th>2005-09-01</th>\n",
       "      <th>...</th>\n",
       "      <th>2023-09-01</th>\n",
       "      <th>2023-10-01</th>\n",
       "      <th>2023-11-01</th>\n",
       "      <th>2023-12-01</th>\n",
       "      <th>2024-01-01</th>\n",
       "      <th>2024-02-01</th>\n",
       "      <th>2024-03-01</th>\n",
       "      <th>2024-04-01</th>\n",
       "      <th>2024-05-01</th>\n",
       "      <th>2024-06-01</th>\n",
       "    </tr>\n",
       "  </thead>\n",
       "  <tbody>\n",
       "    <tr>\n",
       "      <th>0</th>\n",
       "      <td>Overall</td>\n",
       "      <td>418.1</td>\n",
       "      <td>408.3</td>\n",
       "      <td>446.9</td>\n",
       "      <td>496.2</td>\n",
       "      <td>496.8</td>\n",
       "      <td>519.7</td>\n",
       "      <td>497.7</td>\n",
       "      <td>489.3</td>\n",
       "      <td>477.7</td>\n",
       "      <td>...</td>\n",
       "      <td>449.7</td>\n",
       "      <td>463</td>\n",
       "      <td>457.3</td>\n",
       "      <td>415.9</td>\n",
       "      <td>384.1</td>\n",
       "      <td>394.9</td>\n",
       "      <td>423.7</td>\n",
       "      <td>491</td>\n",
       "      <td>482.9</td>\n",
       "      <td>464.1</td>\n",
       "    </tr>\n",
       "    <tr>\n",
       "      <th>1</th>\n",
       "      <td>Central Region</td>\n",
       "      <td>485.4</td>\n",
       "      <td>459</td>\n",
       "      <td>500.2</td>\n",
       "      <td>566.4</td>\n",
       "      <td>573.3</td>\n",
       "      <td>590.1</td>\n",
       "      <td>568.3</td>\n",
       "      <td>551.7</td>\n",
       "      <td>539.5</td>\n",
       "      <td>...</td>\n",
       "      <td>505.4</td>\n",
       "      <td>523.1</td>\n",
       "      <td>527.6</td>\n",
       "      <td>481.4</td>\n",
       "      <td>442.7</td>\n",
       "      <td>436.7</td>\n",
       "      <td>478.9</td>\n",
       "      <td>553.5</td>\n",
       "      <td>558.8</td>\n",
       "      <td>524.8</td>\n",
       "    </tr>\n",
       "    <tr>\n",
       "      <th>2</th>\n",
       "      <td>Bishan</td>\n",
       "      <td>433.6</td>\n",
       "      <td>420.5</td>\n",
       "      <td>479.2</td>\n",
       "      <td>513.5</td>\n",
       "      <td>516.3</td>\n",
       "      <td>545</td>\n",
       "      <td>522.6</td>\n",
       "      <td>507.7</td>\n",
       "      <td>505.8</td>\n",
       "      <td>...</td>\n",
       "      <td>463</td>\n",
       "      <td>495.7</td>\n",
       "      <td>471.5</td>\n",
       "      <td>429.1</td>\n",
       "      <td>379.6</td>\n",
       "      <td>416.1</td>\n",
       "      <td>471.4</td>\n",
       "      <td>498</td>\n",
       "      <td>485.4</td>\n",
       "      <td>489.9</td>\n",
       "    </tr>\n",
       "    <tr>\n",
       "      <th>3</th>\n",
       "      <td>Bukit Merah</td>\n",
       "      <td>320</td>\n",
       "      <td>264.9</td>\n",
       "      <td>292.4</td>\n",
       "      <td>358.7</td>\n",
       "      <td>354.2</td>\n",
       "      <td>350</td>\n",
       "      <td>358.4</td>\n",
       "      <td>337.8</td>\n",
       "      <td>343.2</td>\n",
       "      <td>...</td>\n",
       "      <td>368.9</td>\n",
       "      <td>364.2</td>\n",
       "      <td>384.9</td>\n",
       "      <td>346.4</td>\n",
       "      <td>341.6</td>\n",
       "      <td>301.1</td>\n",
       "      <td>330.2</td>\n",
       "      <td>389.9</td>\n",
       "      <td>421.9</td>\n",
       "      <td>380.2</td>\n",
       "    </tr>\n",
       "    <tr>\n",
       "      <th>4</th>\n",
       "      <td>Bukit Timah</td>\n",
       "      <td>963.4</td>\n",
       "      <td>930.5</td>\n",
       "      <td>1035.2</td>\n",
       "      <td>1149.5</td>\n",
       "      <td>1132.3</td>\n",
       "      <td>1173.7</td>\n",
       "      <td>1101.2</td>\n",
       "      <td>1051.2</td>\n",
       "      <td>1039</td>\n",
       "      <td>...</td>\n",
       "      <td>911.5</td>\n",
       "      <td>951</td>\n",
       "      <td>916.9</td>\n",
       "      <td>834.9</td>\n",
       "      <td>797.2</td>\n",
       "      <td>760.7</td>\n",
       "      <td>876.8</td>\n",
       "      <td>1012.1</td>\n",
       "      <td>938.6</td>\n",
       "      <td>856.5</td>\n",
       "    </tr>\n",
       "  </tbody>\n",
       "</table>\n",
       "<p>5 rows × 235 columns</p>\n",
       "</div>"
      ],
      "text/plain": [
       "           region 2005-01-01 2005-02-01 2005-03-01 2005-04-01 2005-05-01  \\\n",
       "0         Overall      418.1      408.3      446.9      496.2      496.8   \n",
       "1  Central Region      485.4        459      500.2      566.4      573.3   \n",
       "2          Bishan      433.6      420.5      479.2      513.5      516.3   \n",
       "3     Bukit Merah        320      264.9      292.4      358.7      354.2   \n",
       "4     Bukit Timah      963.4      930.5     1035.2     1149.5     1132.3   \n",
       "\n",
       "  2005-06-01 2005-07-01 2005-08-01 2005-09-01  ... 2023-09-01 2023-10-01  \\\n",
       "0      519.7      497.7      489.3      477.7  ...      449.7        463   \n",
       "1      590.1      568.3      551.7      539.5  ...      505.4      523.1   \n",
       "2        545      522.6      507.7      505.8  ...        463      495.7   \n",
       "3        350      358.4      337.8      343.2  ...      368.9      364.2   \n",
       "4     1173.7     1101.2     1051.2       1039  ...      911.5        951   \n",
       "\n",
       "  2023-11-01 2023-12-01 2024-01-01 2024-02-01 2024-03-01 2024-04-01  \\\n",
       "0      457.3      415.9      384.1      394.9      423.7        491   \n",
       "1      527.6      481.4      442.7      436.7      478.9      553.5   \n",
       "2      471.5      429.1      379.6      416.1      471.4        498   \n",
       "3      384.9      346.4      341.6      301.1      330.2      389.9   \n",
       "4      916.9      834.9      797.2      760.7      876.8     1012.1   \n",
       "\n",
       "  2024-05-01 2024-06-01  \n",
       "0      482.9      464.1  \n",
       "1      558.8      524.8  \n",
       "2      485.4      489.9  \n",
       "3      421.9      380.2  \n",
       "4      938.6      856.5  \n",
       "\n",
       "[5 rows x 235 columns]"
      ]
     },
     "execution_count": 3,
     "metadata": {},
     "output_type": "execute_result"
    }
   ],
   "source": [
    "data.head()"
   ]
  },
  {
   "cell_type": "markdown",
   "id": "f8a4eb986ac1856d",
   "metadata": {
    "collapsed": false
   },
   "source": [
    "## Train Time Series Predictor"
   ]
  },
  {
   "cell_type": "code",
   "execution_count": 4,
   "id": "416a58316373a962",
   "metadata": {
    "ExecuteTime": {
     "end_time": "2024-11-06T14:55:23.560442Z",
     "start_time": "2024-11-06T14:55:21.973044Z"
    },
    "collapsed": false
   },
   "outputs": [
    {
     "name": "stderr",
     "output_type": "stream",
     "text": [
      "22:55:22 - cmdstanpy - INFO - Chain [1] start processing\n",
      "22:55:22 - cmdstanpy - INFO - Chain [1] done processing\n",
      "22:55:22 - cmdstanpy - INFO - Chain [1] start processing\n",
      "22:55:22 - cmdstanpy - INFO - Chain [1] done processing\n",
      "22:55:22 - cmdstanpy - INFO - Chain [1] start processing\n",
      "22:55:22 - cmdstanpy - INFO - Chain [1] done processing\n",
      "22:55:22 - cmdstanpy - INFO - Chain [1] start processing\n",
      "22:55:22 - cmdstanpy - INFO - Chain [1] done processing\n",
      "22:55:22 - cmdstanpy - INFO - Chain [1] start processing\n",
      "22:55:22 - cmdstanpy - INFO - Chain [1] done processing\n",
      "22:55:22 - cmdstanpy - INFO - Chain [1] start processing\n",
      "22:55:22 - cmdstanpy - INFO - Chain [1] done processing\n",
      "22:55:22 - cmdstanpy - INFO - Chain [1] start processing\n",
      "22:55:22 - cmdstanpy - INFO - Chain [1] done processing\n",
      "22:55:22 - cmdstanpy - INFO - Chain [1] start processing\n",
      "22:55:22 - cmdstanpy - INFO - Chain [1] done processing\n",
      "22:55:22 - cmdstanpy - INFO - Chain [1] start processing\n",
      "22:55:22 - cmdstanpy - INFO - Chain [1] done processing\n",
      "22:55:22 - cmdstanpy - INFO - Chain [1] start processing\n",
      "22:55:22 - cmdstanpy - INFO - Chain [1] done processing\n",
      "22:55:22 - cmdstanpy - INFO - Chain [1] start processing\n",
      "22:55:22 - cmdstanpy - INFO - Chain [1] done processing\n",
      "22:55:22 - cmdstanpy - INFO - Chain [1] start processing\n",
      "22:55:22 - cmdstanpy - INFO - Chain [1] done processing\n",
      "22:55:22 - cmdstanpy - INFO - Chain [1] start processing\n",
      "22:55:22 - cmdstanpy - INFO - Chain [1] done processing\n",
      "22:55:22 - cmdstanpy - INFO - Chain [1] start processing\n",
      "22:55:22 - cmdstanpy - INFO - Chain [1] done processing\n",
      "22:55:22 - cmdstanpy - INFO - Chain [1] start processing\n",
      "22:55:22 - cmdstanpy - INFO - Chain [1] done processing\n",
      "22:55:22 - cmdstanpy - INFO - Chain [1] start processing\n",
      "22:55:22 - cmdstanpy - INFO - Chain [1] done processing\n",
      "22:55:22 - cmdstanpy - INFO - Chain [1] start processing\n",
      "22:55:22 - cmdstanpy - INFO - Chain [1] done processing\n",
      "22:55:22 - cmdstanpy - INFO - Chain [1] start processing\n",
      "22:55:22 - cmdstanpy - INFO - Chain [1] done processing\n",
      "22:55:22 - cmdstanpy - INFO - Chain [1] start processing\n",
      "22:55:22 - cmdstanpy - INFO - Chain [1] done processing\n",
      "22:55:22 - cmdstanpy - INFO - Chain [1] start processing\n",
      "22:55:22 - cmdstanpy - INFO - Chain [1] done processing\n",
      "22:55:22 - cmdstanpy - INFO - Chain [1] start processing\n",
      "22:55:22 - cmdstanpy - INFO - Chain [1] done processing\n",
      "22:55:22 - cmdstanpy - INFO - Chain [1] start processing\n",
      "22:55:22 - cmdstanpy - INFO - Chain [1] done processing\n",
      "22:55:22 - cmdstanpy - INFO - Chain [1] start processing\n",
      "22:55:22 - cmdstanpy - INFO - Chain [1] done processing\n",
      "22:55:22 - cmdstanpy - INFO - Chain [1] start processing\n",
      "22:55:22 - cmdstanpy - INFO - Chain [1] done processing\n",
      "22:55:22 - cmdstanpy - INFO - Chain [1] start processing\n",
      "22:55:22 - cmdstanpy - INFO - Chain [1] done processing\n",
      "22:55:22 - cmdstanpy - INFO - Chain [1] start processing\n",
      "22:55:22 - cmdstanpy - INFO - Chain [1] done processing\n",
      "22:55:22 - cmdstanpy - INFO - Chain [1] start processing\n",
      "22:55:22 - cmdstanpy - INFO - Chain [1] done processing\n",
      "22:55:22 - cmdstanpy - INFO - Chain [1] start processing\n",
      "22:55:22 - cmdstanpy - INFO - Chain [1] done processing\n",
      "22:55:22 - cmdstanpy - INFO - Chain [1] start processing\n",
      "22:55:22 - cmdstanpy - INFO - Chain [1] done processing\n",
      "22:55:22 - cmdstanpy - INFO - Chain [1] start processing\n",
      "22:55:22 - cmdstanpy - INFO - Chain [1] done processing\n",
      "22:55:23 - cmdstanpy - INFO - Chain [1] start processing\n",
      "22:55:23 - cmdstanpy - INFO - Chain [1] done processing\n",
      "22:55:23 - cmdstanpy - INFO - Chain [1] start processing\n",
      "22:55:23 - cmdstanpy - INFO - Chain [1] done processing\n",
      "22:55:23 - cmdstanpy - INFO - Chain [1] start processing\n",
      "22:55:23 - cmdstanpy - INFO - Chain [1] done processing\n",
      "22:55:23 - cmdstanpy - INFO - Chain [1] start processing\n",
      "22:55:23 - cmdstanpy - INFO - Chain [1] done processing\n",
      "22:55:23 - cmdstanpy - INFO - Chain [1] start processing\n",
      "22:55:23 - cmdstanpy - INFO - Chain [1] done processing\n",
      "22:55:23 - cmdstanpy - INFO - Chain [1] start processing\n",
      "22:55:23 - cmdstanpy - INFO - Chain [1] done processing\n",
      "22:55:23 - cmdstanpy - INFO - Chain [1] start processing\n",
      "22:55:23 - cmdstanpy - INFO - Chain [1] done processing\n",
      "22:55:23 - cmdstanpy - INFO - Chain [1] start processing\n",
      "22:55:23 - cmdstanpy - INFO - Chain [1] done processing\n",
      "22:55:23 - cmdstanpy - INFO - Chain [1] start processing\n",
      "22:55:23 - cmdstanpy - INFO - Chain [1] done processing\n",
      "22:55:23 - cmdstanpy - INFO - Chain [1] start processing\n",
      "22:55:23 - cmdstanpy - INFO - Chain [1] done processing\n",
      "22:55:23 - cmdstanpy - INFO - Chain [1] start processing\n",
      "22:55:23 - cmdstanpy - INFO - Chain [1] done processing\n",
      "22:55:23 - cmdstanpy - INFO - Chain [1] start processing\n",
      "22:55:23 - cmdstanpy - INFO - Chain [1] done processing\n",
      "22:55:23 - cmdstanpy - INFO - Chain [1] start processing\n",
      "22:55:23 - cmdstanpy - INFO - Chain [1] done processing\n",
      "22:55:23 - cmdstanpy - INFO - Chain [1] start processing\n",
      "22:55:23 - cmdstanpy - INFO - Chain [1] done processing\n",
      "22:55:23 - cmdstanpy - INFO - Chain [1] start processing\n",
      "22:55:23 - cmdstanpy - INFO - Chain [1] done processing\n",
      "22:55:23 - cmdstanpy - INFO - Chain [1] start processing\n",
      "22:55:23 - cmdstanpy - INFO - Chain [1] done processing\n",
      "22:55:23 - cmdstanpy - INFO - Chain [1] start processing\n",
      "22:55:23 - cmdstanpy - INFO - Chain [1] done processing\n",
      "22:55:23 - cmdstanpy - INFO - Chain [1] start processing\n",
      "22:55:23 - cmdstanpy - INFO - Chain [1] done processing\n"
     ]
    }
   ],
   "source": [
    "predictor = Predictor(data)"
   ]
  },
  {
   "cell_type": "code",
   "execution_count": 5,
   "id": "b4044372d86d987e",
   "metadata": {
    "ExecuteTime": {
     "end_time": "2024-11-06T14:55:23.577241Z",
     "start_time": "2024-11-06T14:55:23.559927Z"
    }
   },
   "outputs": [
    {
     "name": "stdout",
     "output_type": "stream",
     "text": [
      "Geylang 2025-06 -> 452.65566823496516 [434.96666666666664, 475.2]\n"
     ]
    },
    {
     "data": {
      "text/plain": [
       "1"
      ]
     },
     "execution_count": 5,
     "metadata": {},
     "output_type": "execute_result"
    }
   ],
   "source": [
    "predictor.predcit(\"Geylang\", \"2025-06\")"
   ]
  },
  {
   "cell_type": "markdown",
   "id": "d757d4b9340a6335",
   "metadata": {
    "collapsed": false
   },
   "source": [
    "## Run MDP"
   ]
  },
  {
   "cell_type": "code",
   "execution_count": 6,
   "id": "f0b976c5309fd208",
   "metadata": {
    "ExecuteTime": {
     "end_time": "2024-11-06T14:55:24.002552Z",
     "start_time": "2024-11-06T14:55:23.576791Z"
    },
    "collapsed": false
   },
   "outputs": [],
   "source": [
    "P = MDP.make_transition_prob(data)"
   ]
  },
  {
   "cell_type": "code",
   "execution_count": 7,
   "id": "cefc42bb3800acf7",
   "metadata": {
    "ExecuteTime": {
     "end_time": "2024-11-06T14:55:24.005897Z",
     "start_time": "2024-11-06T14:55:24.003717Z"
    },
    "collapsed": false
   },
   "outputs": [],
   "source": [
    "R = MDP.make_rewards()"
   ]
  },
  {
   "cell_type": "code",
   "execution_count": 8,
   "id": "a87c671eb562535e",
   "metadata": {
    "ExecuteTime": {
     "end_time": "2024-11-06T14:55:24.013854Z",
     "start_time": "2024-11-06T14:55:24.006170Z"
    },
    "collapsed": false
   },
   "outputs": [],
   "source": [
    "mdp = MDP.MDP(P, R, 0.9)"
   ]
  },
  {
   "cell_type": "code",
   "execution_count": 9,
   "id": "110c8d24369665cc",
   "metadata": {
    "ExecuteTime": {
     "end_time": "2024-11-06T14:55:24.069795Z",
     "start_time": "2024-11-06T14:55:24.019141Z"
    },
    "collapsed": false
   },
   "outputs": [],
   "source": [
    "policy = mdp.get_policy()"
   ]
  },
  {
   "cell_type": "code",
   "execution_count": 10,
   "id": "7b3a1eb254b02b88",
   "metadata": {
    "ExecuteTime": {
     "end_time": "2024-11-06T14:55:24.070362Z",
     "start_time": "2024-11-06T14:55:24.058049Z"
    },
    "collapsed": false
   },
   "outputs": [
    {
     "data": {
      "text/plain": [
       "(0, 0, 0, 1, 1, 1, 1, 1, 1, 2, 2, 2)"
      ]
     },
     "execution_count": 10,
     "metadata": {},
     "output_type": "execute_result"
    }
   ],
   "source": [
    "policy"
   ]
  },
  {
   "cell_type": "markdown",
   "id": "868d8cb3d47993aa",
   "metadata": {
    "collapsed": false
   },
   "source": [
    "## Optimize"
   ]
  },
  {
   "cell_type": "code",
   "execution_count": 13,
   "id": "ec2a35befe7aaf2",
   "metadata": {
    "ExecuteTime": {
     "end_time": "2024-11-06T14:57:28.963382Z",
     "start_time": "2024-11-06T14:57:28.477600Z"
    },
    "collapsed": false
   },
   "outputs": [
    {
     "name": "stdout",
     "output_type": "stream",
     "text": [
      "Central Region 2024-12 -> 478.18334078363034 [504.26666666666665, 551.5]\n",
      "Central Region - residential: Increase supply\n",
      "Bishan 2024-12 -> 433.57265202351266 [457.1333333333333, 498.3666666666666]\n",
      "Bishan - residential: Keep supply as this\n",
      "Bukit Merah 2024-12 -> 339.40982048672595 [339.23333333333335, 367.59999999999997]\n",
      "Bukit Merah - residential: Keep supply as this\n",
      "Bukit Timah 2024-12 -> 846.0826086477181 [916.5333333333333, 999.8999999999999]\n",
      "Bukit Timah - industrial: Decrease supply\n",
      "Downtown Core 2024-12 -> 497.23452010762946 [423.96666666666664, 482.73333333333323]\n",
      "Downtown Core - commercial: Increase supply\n",
      "Geylang 2024-12 -> 396.52587189029015 [434.96666666666664, 475.2]\n",
      "Geylang - residential: Keep supply as this\n",
      "Kallang 2024-12 -> 372.36224317878924 [392.6333333333333, 428.5]\n",
      "Kallang - residential: Increase supply\n",
      "Marine Parade 2024-12 -> 552.0446087084254 [574.4666666666667, 620.2666666666667]\n",
      "Marine Parade - residential: Keep supply as this\n",
      "Museum 2024-12 -> 500.31894940550677 [550.9666666666667, 639.2333333333332]\n",
      "Museum - residential: Increase supply\n",
      "Newton 2024-12 -> 937.8154879128338 [974.0, 1153.2333333333333]\n",
      "Newton - residential: Keep supply as this\n",
      "Novena 2024-12 -> 624.0092982847158 [629.0, 690.1999999999999]\n",
      "Novena - residential: Keep supply as this\n",
      "Orchard 2024-12 -> 762.3931032213258 [910.4333333333333, 1065.0]\n",
      "Orchard - residential: Increase supply\n",
      "Outram 2024-12 -> 293.06902390145797 [318.96666666666664, 350.9333333333332]\n",
      "Outram - residential: Increase supply\n",
      "Queenstown 2024-12 -> 341.92336736088276 [360.8, 394.19999999999993]\n",
      "Queenstown - residential: Keep supply as this\n",
      "River Valley 2024-12 -> 804.0752065060553 [818.0333333333334, 933.8333333333333]\n",
      "River Valley - residential: Keep supply as this\n",
      "Rochor 2024-12 -> 413.994532059773 [438.4, 472.76666666666665]\n",
      "Rochor - residential: Increase supply\n",
      "Singapore River 2024-12 -> 702.9221982487898 [663.3, 739.0]\n",
      "Singapore River - commercial: Increase supply\n",
      "Southern Islands 2024-12 -> 1806.5699131810684 [1568.1666666666665, 1835.7333333333331]\n",
      "Southern Islands - industrial: Decrease supply\n",
      "Tanglin 2024-12 -> 967.4740630136431 [1089.2, 1217.3666666666668]\n",
      "Tanglin - residential: Keep supply as this\n",
      "Toa Payoh 2024-12 -> 337.3001170664013 [357.4333333333333, 385.93333333333334]\n",
      "Toa Payoh - residential: Keep supply as this\n",
      "East Region 2024-12 -> 408.6241713790878 [450.03333333333336, 494.4]\n",
      "East Region - industrial: Decrease supply\n",
      "Bedok 2024-12 -> 430.17487471346647 [464.2, 506.59999999999997]\n",
      "Bedok - residential: Keep supply as this\n",
      "Changi 2024-12 -> 402.88374779586496 [415.8666666666666, 449.26666666666665]\n",
      "Changi - commercial: Increase supply\n",
      "Pasir Ris 2024-12 -> 445.5342098770584 [483.93333333333334, 538.2999999999998]\n",
      "Pasir Ris - industrial: Decrease supply\n",
      "Paya Lebar 2024-12 -> 1389.3898566403795 [323.2, 1164.2999999999995]\n",
      "Paya Lebar - commercial: Increase supply\n",
      "Tampines 2024-12 -> 362.14128187530173 [414.96666666666664, 457.93333333333334]\n",
      "Tampines - residential: Keep supply as this\n",
      "North East Region 2024-12 -> 404.29290215993643 [414.3666666666667, 449.73333333333335]\n",
      "North East Region - industrial: Decrease supply\n",
      "Ang Mo Kio 2024-12 -> 355.5509041998588 [361.4, 388.26666666666665]\n",
      "Ang Mo Kio - residential: Keep supply as this\n",
      "Hougang 2024-12 -> 401.44987982948373 [434.93333333333334, 475.7]\n",
      "Hougang - residential: Keep supply as this\n",
      "Punggol 2024-12 -> 389.1590472823419 [361.6, 401.09999999999997]\n",
      "Punggol - residential: Keep supply as this\n",
      "Seletar 2024-12 -> 892.0041861533135 [808.0333333333333, 884.1333333333333]\n",
      "Seletar - industrial: Increase supply\n",
      "Sengkang 2024-12 -> 396.7599801056315 [382.59999999999997, 415.9]\n",
      "Sengkang - residential: Keep supply as this\n",
      "Serangoon 2024-12 -> 522.6599837218536 [554.7666666666667, 602.5333333333333]\n",
      "Serangoon - residential: Keep supply as this\n",
      "North Region 2024-12 -> 387.4536080521043 [394.76666666666665, 424.4]\n",
      "North Region - industrial: Decrease supply\n",
      "Mandai 2024-12 -> 591.3095389547375 [625.5666666666667, 672.9333333333333]\n",
      "Mandai - commercial: Increase supply\n",
      "Sembawang 2024-12 -> 389.36142628539307 [408.0333333333333, 435.53333333333336]\n",
      "Sembawang - residential: Keep supply as this\n",
      "Sungei Kadut 2024-12 -> 966.0770341197759 [879.8333333333333, 1025.5666666666666]\n",
      "Sungei Kadut - commercial: Increase supply\n",
      "Woodlands 2024-12 -> 390.71682684008533 [399.0333333333333, 429.1]\n",
      "Woodlands - residential: Keep supply as this\n",
      "Yishun 2024-12 -> 373.66201729069047 [378.23333333333335, 409.8666666666666]\n",
      "Yishun - residential: Keep supply as this\n",
      "West Region 2024-12 -> 385.3223526711821 [392.3666666666667, 425.19999999999993]\n",
      "West Region - industrial: Decrease supply\n",
      "Bukit Batok 2024-12 -> 350.3210503058533 [383.46666666666664, 425.8666666666666]\n",
      "Bukit Batok - residential: Keep supply as this\n",
      "Bukit Panjang 2024-12 -> 399.0763017151331 [398.8666666666667, 433.06666666666666]\n",
      "Bukit Panjang - residential: Keep supply as this\n",
      "Choa Chu Kang 2024-12 -> 391.33182594770494 [403.3, 435.9333333333333]\n",
      "Choa Chu Kang - residential: Keep supply as this\n",
      "Clementi 2024-12 -> 387.8909645850847 [389.8333333333333, 424.3999999999999]\n",
      "Clementi - residential: Keep supply as this\n",
      "Jurong East 2024-12 -> 353.1618202643311 [367.7, 401.7]\n",
      "Jurong East - residential: Increase supply\n",
      "Jurong West 2024-12 -> 407.22614504278766 [395.46666666666664, 424.8666666666667]\n",
      "Jurong West - residential: Keep supply as this\n",
      "Pioneer 2024-12 -> -8.073431371583274 [276.5, 351.19999999999993]\n",
      "Pioneer - commercial: Increase supply\n",
      "Tengah 2024-12 -> 199.1485475102677 [27.999999999999993, 75.69999999999999]\n",
      "Tengah - industrial: Decrease supply\n"
     ]
    }
   ],
   "source": [
    "for region in REGION_LABEL:\n",
    "    code = predictor.predcit(region, \"2024-12\")\n",
    "    region_type = REGION_CODE_INVERSE[code // 4]\n",
    "    action = POLICY_MAP[policy[code]]\n",
    "    print(f\"{region} - {region_type}: {action}\")"
   ]
  },
  {
   "cell_type": "code",
   "execution_count": null,
   "id": "1cbb4f50d5ddb348",
   "metadata": {
    "collapsed": false
   },
   "outputs": [],
   "source": []
  }
 ],
 "metadata": {
  "kernelspec": {
   "display_name": "Python 3",
   "language": "python",
   "name": "python3"
  },
  "language_info": {
   "codemirror_mode": {
    "name": "ipython",
    "version": 2
   },
   "file_extension": ".py",
   "mimetype": "text/x-python",
   "name": "python",
   "nbconvert_exporter": "python",
   "pygments_lexer": "ipython2",
   "version": "2.7.6"
  }
 },
 "nbformat": 4,
 "nbformat_minor": 5
}
