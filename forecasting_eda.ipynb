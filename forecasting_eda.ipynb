{
 "cells": [
  {
   "cell_type": "markdown",
   "metadata": {},
   "source": [
    "# Forecasting"
   ]
  },
  {
   "cell_type": "code",
   "execution_count": null,
   "metadata": {},
   "outputs": [],
   "source": [
    "! pip install pandas openpyxl numpy scikit-learn prophet matplotlib seaborn jupyter ipywidgets"
   ]
  },
  {
   "cell_type": "code",
   "execution_count": null,
   "metadata": {},
   "outputs": [],
   "source": [
    "%load_ext autoreload\n",
    "%autoreload 2\n"
   ]
  },
  {
   "cell_type": "code",
   "execution_count": null,
   "metadata": {},
   "outputs": [],
   "source": [
    "import pandas as pd\n",
    "import numpy as np\n",
    "from prophet import Prophet\n",
    "from sklearn.metrics import mean_absolute_error, root_mean_squared_error, r2_score\n",
    "import matplotlib.pyplot as plt\n",
    "import seaborn as sns\n",
    "from datetime import datetime, timedelta"
   ]
  },
  {
   "cell_type": "code",
   "execution_count": null,
   "metadata": {},
   "outputs": [],
   "source": [
    "from utils import forecasting"
   ]
  },
  {
   "cell_type": "code",
   "execution_count": null,
   "metadata": {},
   "outputs": [],
   "source": [
    "import os \n",
    "\n",
    "if not os.path.exists('output'):\n",
    "    os.mkdir('output')"
   ]
  },
  {
   "cell_type": "markdown",
   "metadata": {},
   "source": [
    "# Inital Data Extraction (Only run once)"
   ]
  },
  {
   "cell_type": "code",
   "execution_count": null,
   "metadata": {},
   "outputs": [],
   "source": [
    "# dfs = pd.read_excel(\"data/SES_2024.xlsx.coredownload.xlsx\", sheet_name=\"T3.5\",header=[3, 4])\n"
   ]
  },
  {
   "cell_type": "code",
   "execution_count": null,
   "metadata": {},
   "outputs": [],
   "source": [
    "# df_region = dfs.iloc[:49, :]\n",
    "# df_region"
   ]
  },
  {
   "cell_type": "code",
   "execution_count": null,
   "metadata": {},
   "outputs": [],
   "source": [
    "# region_index = df_region[('Overall', 'Unnamed: 0_level_1')].to_list()"
   ]
  },
  {
   "cell_type": "code",
   "execution_count": null,
   "metadata": {},
   "outputs": [],
   "source": [
    "# df = df_region.loc[:, df_region.columns.get_level_values(1).astype(str).str.isnumeric()]\n",
    "# df.index = region_index\n",
    "\n",
    "# df.columns = pd.to_datetime([f\"{year}-{month}-01\" for year, month in df.columns])\n",
    "# df.to_csv('data/region_monthly_electricity_consumption.csv', index=True)\n"
   ]
  },
  {
   "cell_type": "markdown",
   "metadata": {},
   "source": [
    "# Data Preparation for Forecasting "
   ]
  },
  {
   "cell_type": "code",
   "execution_count": null,
   "metadata": {},
   "outputs": [],
   "source": [
    "df = pd.read_csv('data/region_monthly_electricity_consumption.csv', index_col=0)\n",
    "\n",
    "df.head()"
   ]
  },
  {
   "cell_type": "code",
   "execution_count": null,
   "metadata": {},
   "outputs": [],
   "source": [
    "df.index"
   ]
  },
  {
   "cell_type": "code",
   "execution_count": null,
   "metadata": {},
   "outputs": [],
   "source": [
    "df_long, df_stats = forecasting.prepare_electricity_data(df=df)\n",
    "df_long"
   ]
  },
  {
   "cell_type": "code",
   "execution_count": null,
   "metadata": {},
   "outputs": [],
   "source": [
    "seasonality_df = forecasting.analyze_seasonality(df_long=df_long)\n",
    "\n",
    "peak_counts = seasonality_df['peak_month'].value_counts()\n",
    "low_counts = seasonality_df['low_month'].value_counts()\n",
    "\n",
    "months_df = pd.DataFrame({\n",
    "    'Month': peak_counts.index.append(low_counts.index),\n",
    "    'Type': ['Peak'] * len(peak_counts) + ['Low'] * len(low_counts),\n",
    "    'Count': pd.concat([peak_counts, low_counts]).values\n",
    "})\n",
    "\n",
    "# Plotting the results\n",
    "plt.figure(figsize=(10, 6))\n",
    "sns.barplot(data=months_df, x='Month', y='Count', hue='Type', palette='pastel')\n",
    "plt.title('Frequency of Peak and Low Months Across Regions')\n",
    "plt.ylabel('Count')\n",
    "plt.xlabel('Month')\n",
    "plt.xticks(rotation=45)\n",
    "plt.legend(title='Month Type')\n",
    "\n",
    "plt.savefig('output/peak_low_months_frequency.png')\n",
    "plt.show()"
   ]
  },
  {
   "cell_type": "code",
   "execution_count": null,
   "metadata": {},
   "outputs": [],
   "source": [
    "anomalies = forecasting.identify_anomalies(df_long=df_long, z_score_threshold=3)\n",
    "top_10_anomalous_regions = anomalies.groupby('region')['region'].value_counts().sort_values(ascending=False)[:10]\n",
    "top_10_anomalous_regions"
   ]
  },
  {
   "cell_type": "code",
   "execution_count": null,
   "metadata": {},
   "outputs": [],
   "source": [
    "forecasting.plot_anomalies(df_long=df_long, anomalies=anomalies, regions_to_plot=top_10_anomalous_regions.index, save=True)"
   ]
  },
  {
   "cell_type": "markdown",
   "metadata": {},
   "source": [
    "Many anomalies during Covid period. High electricity consumption due to the lockdown. Tengah anomalies are due to the region being a new BTO estate."
   ]
  },
  {
   "cell_type": "code",
   "execution_count": null,
   "metadata": {},
   "outputs": [],
   "source": [
    "print(f\"Earliest Date: {min(df_long['date'])}\")\n",
    "print(f\"Latest Date: {max(df_long['date'])}\")"
   ]
  },
  {
   "cell_type": "code",
   "execution_count": null,
   "metadata": {},
   "outputs": [],
   "source": [
    "print(\"=== Top 10 Regions with Highest Electricity Consumption ===\\n\")\n",
    "df_long.groupby(['region_category','region'])['consumption'].mean().sort_values(ascending=False)[:10]\n"
   ]
  },
  {
   "cell_type": "code",
   "execution_count": null,
   "metadata": {},
   "outputs": [],
   "source": [
    "# Run the forecasting\n",
    "results = forecasting.train_forecasting_model(df_long=df_long, region_category='Subzone')\n",
    "\n",
    "\n",
    "# Print metrics\n",
    "metrics_df = forecasting.print_metrics(results)\n",
    "print(\"\\nModel Performance Metrics:\")\n",
    "print(metrics_df)\n",
    "\n",
    "# Plot forecasts for key regions\n",
    "regions_to_plot = metrics_df['Region']\n",
    "fig = forecasting.plot_forecasts(results=results, regions_to_plot=regions_to_plot, save=True)\n",
    "plt.show()\n",
    "\n",
    "# Get future predictions for Overall consumption\n",
    "overall_forecast = results['Overall']['forecast'].head(6)[['ds', 'yhat', 'yhat_lower', 'yhat_upper']]\n",
    "print(\"\\nForecast for Overall consumption (next 6 months):\")\n",
    "print(overall_forecast.round(2))\n"
   ]
  },
  {
   "cell_type": "code",
   "execution_count": null,
   "metadata": {},
   "outputs": [],
   "source": [
    "results['Clementi']"
   ]
  },
  {
   "cell_type": "code",
   "execution_count": null,
   "metadata": {},
   "outputs": [],
   "source": [
    "overall_forecast"
   ]
  },
  {
   "cell_type": "code",
   "execution_count": null,
   "metadata": {},
   "outputs": [],
   "source": [
    "metrics_df[['RMSE']].describe()"
   ]
  },
  {
   "cell_type": "code",
   "execution_count": null,
   "metadata": {},
   "outputs": [],
   "source": []
  }
 ],
 "metadata": {
  "kernelspec": {
   "display_name": "Python 3",
   "language": "python",
   "name": "python3"
  },
  "language_info": {
   "codemirror_mode": {
    "name": "ipython",
    "version": 3
   },
   "file_extension": ".py",
   "mimetype": "text/x-python",
   "name": "python",
   "nbconvert_exporter": "python",
   "pygments_lexer": "ipython3",
   "version": "3.11.10"
  }
 },
 "nbformat": 4,
 "nbformat_minor": 2
}
