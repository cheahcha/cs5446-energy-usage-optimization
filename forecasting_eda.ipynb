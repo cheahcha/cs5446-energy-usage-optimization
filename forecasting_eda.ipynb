{
 "cells": [
  {
   "cell_type": "markdown",
   "metadata": {},
   "source": [
    "# Forecasting"
   ]
  },
  {
   "cell_type": "code",
   "execution_count": null,
   "metadata": {},
   "outputs": [],
   "source": [
    "! pip install pandas openpyxl numpy scikit-learn prophet matplotlib seaborn jupyter ipywidgets"
   ]
  },
  {
   "cell_type": "code",
   "execution_count": null,
   "metadata": {},
   "outputs": [],
   "source": [
    "%load_ext autoreload\n",
    "%autoreload 2\n"
   ]
  },
  {
   "cell_type": "code",
   "execution_count": 157,
   "metadata": {},
   "outputs": [],
   "source": [
    "import pandas as pd\n",
    "import numpy as np\n",
    "from prophet import Prophet\n",
    "from sklearn.metrics import mean_absolute_error, root_mean_squared_error, r2_score\n",
    "import matplotlib.pyplot as plt\n",
    "import seaborn as sns\n",
    "from datetime import datetime, timedelta"
   ]
  },
  {
   "cell_type": "code",
   "execution_count": 158,
   "metadata": {},
   "outputs": [],
   "source": [
    "from utils import forecasting"
   ]
  },
  {
   "cell_type": "code",
   "execution_count": 159,
   "metadata": {},
   "outputs": [],
   "source": [
    "import os \n",
    "\n",
    "if not os.path.exists('output'):\n",
    "    os.mkdir('output')"
   ]
  },
  {
   "cell_type": "markdown",
   "metadata": {},
   "source": [
    "# Inital Data Extraction (Only run once)"
   ]
  },
  {
   "cell_type": "code",
   "execution_count": 9,
   "metadata": {},
   "outputs": [],
   "source": [
    "# dfs = pd.read_excel(\"data/SES_2024.xlsx.coredownload.xlsx\", sheet_name=\"T3.5\",header=[3, 4])\n"
   ]
  },
  {
   "cell_type": "code",
   "execution_count": null,
   "metadata": {},
   "outputs": [],
   "source": [
    "# df_region = dfs.iloc[:49, :]\n",
    "# df_region"
   ]
  },
  {
   "cell_type": "code",
   "execution_count": 25,
   "metadata": {},
   "outputs": [],
   "source": [
    "# region_index = df_region[('Overall', 'Unnamed: 0_level_1')].to_list()"
   ]
  },
  {
   "cell_type": "code",
   "execution_count": 53,
   "metadata": {},
   "outputs": [],
   "source": [
    "# df = df_region.loc[:, df_region.columns.get_level_values(1).astype(str).str.isnumeric()]\n",
    "# df.index = region_index\n",
    "\n",
    "# df.columns = pd.to_datetime([f\"{year}-{month}-01\" for year, month in df.columns])\n",
    "# df.to_csv('data/region_monthly_electricity_consumption.csv', index=True)\n"
   ]
  },
  {
   "cell_type": "markdown",
   "metadata": {},
   "source": [
    "# Data Preparation for Forecasting "
   ]
  },
  {
   "cell_type": "code",
   "execution_count": 170,
   "metadata": {},
   "outputs": [
    {
     "data": {
      "text/html": [
       "<div>\n",
       "<style scoped>\n",
       "    .dataframe tbody tr th:only-of-type {\n",
       "        vertical-align: middle;\n",
       "    }\n",
       "\n",
       "    .dataframe tbody tr th {\n",
       "        vertical-align: top;\n",
       "    }\n",
       "\n",
       "    .dataframe thead th {\n",
       "        text-align: right;\n",
       "    }\n",
       "</style>\n",
       "<table border=\"1\" class=\"dataframe\">\n",
       "  <thead>\n",
       "    <tr style=\"text-align: right;\">\n",
       "      <th></th>\n",
       "      <th>2005-01-01</th>\n",
       "      <th>2005-02-01</th>\n",
       "      <th>2005-03-01</th>\n",
       "      <th>2005-04-01</th>\n",
       "      <th>2005-05-01</th>\n",
       "      <th>2005-06-01</th>\n",
       "      <th>2005-07-01</th>\n",
       "      <th>2005-08-01</th>\n",
       "      <th>2005-09-01</th>\n",
       "      <th>2005-10-01</th>\n",
       "      <th>...</th>\n",
       "      <th>2023-09-01</th>\n",
       "      <th>2023-10-01</th>\n",
       "      <th>2023-11-01</th>\n",
       "      <th>2023-12-01</th>\n",
       "      <th>2024-01-01</th>\n",
       "      <th>2024-02-01</th>\n",
       "      <th>2024-03-01</th>\n",
       "      <th>2024-04-01</th>\n",
       "      <th>2024-05-01</th>\n",
       "      <th>2024-06-01</th>\n",
       "    </tr>\n",
       "  </thead>\n",
       "  <tbody>\n",
       "    <tr>\n",
       "      <th>Overall</th>\n",
       "      <td>418.1</td>\n",
       "      <td>408.3</td>\n",
       "      <td>446.9</td>\n",
       "      <td>496.2</td>\n",
       "      <td>496.8</td>\n",
       "      <td>519.7</td>\n",
       "      <td>497.7</td>\n",
       "      <td>489.3</td>\n",
       "      <td>477.7</td>\n",
       "      <td>480.8</td>\n",
       "      <td>...</td>\n",
       "      <td>449.7</td>\n",
       "      <td>463</td>\n",
       "      <td>457.3</td>\n",
       "      <td>415.9</td>\n",
       "      <td>384.1</td>\n",
       "      <td>394.9</td>\n",
       "      <td>423.7</td>\n",
       "      <td>491</td>\n",
       "      <td>482.9</td>\n",
       "      <td>464.1</td>\n",
       "    </tr>\n",
       "    <tr>\n",
       "      <th>Central Region</th>\n",
       "      <td>485.4</td>\n",
       "      <td>459</td>\n",
       "      <td>500.2</td>\n",
       "      <td>566.4</td>\n",
       "      <td>573.3</td>\n",
       "      <td>590.1</td>\n",
       "      <td>568.3</td>\n",
       "      <td>551.7</td>\n",
       "      <td>539.5</td>\n",
       "      <td>557.6</td>\n",
       "      <td>...</td>\n",
       "      <td>505.4</td>\n",
       "      <td>523.1</td>\n",
       "      <td>527.6</td>\n",
       "      <td>481.4</td>\n",
       "      <td>442.7</td>\n",
       "      <td>436.7</td>\n",
       "      <td>478.9</td>\n",
       "      <td>553.5</td>\n",
       "      <td>558.8</td>\n",
       "      <td>524.8</td>\n",
       "    </tr>\n",
       "    <tr>\n",
       "      <th>Bishan</th>\n",
       "      <td>433.6</td>\n",
       "      <td>420.5</td>\n",
       "      <td>479.2</td>\n",
       "      <td>513.5</td>\n",
       "      <td>516.3</td>\n",
       "      <td>545</td>\n",
       "      <td>522.6</td>\n",
       "      <td>507.7</td>\n",
       "      <td>505.8</td>\n",
       "      <td>508</td>\n",
       "      <td>...</td>\n",
       "      <td>463</td>\n",
       "      <td>495.7</td>\n",
       "      <td>471.5</td>\n",
       "      <td>429.1</td>\n",
       "      <td>379.6</td>\n",
       "      <td>416.1</td>\n",
       "      <td>471.4</td>\n",
       "      <td>498</td>\n",
       "      <td>485.4</td>\n",
       "      <td>489.9</td>\n",
       "    </tr>\n",
       "    <tr>\n",
       "      <th>Bukit Merah</th>\n",
       "      <td>320</td>\n",
       "      <td>264.9</td>\n",
       "      <td>292.4</td>\n",
       "      <td>358.7</td>\n",
       "      <td>354.2</td>\n",
       "      <td>350</td>\n",
       "      <td>358.4</td>\n",
       "      <td>337.8</td>\n",
       "      <td>343.2</td>\n",
       "      <td>344.9</td>\n",
       "      <td>...</td>\n",
       "      <td>368.9</td>\n",
       "      <td>364.2</td>\n",
       "      <td>384.9</td>\n",
       "      <td>346.4</td>\n",
       "      <td>341.6</td>\n",
       "      <td>301.1</td>\n",
       "      <td>330.2</td>\n",
       "      <td>389.9</td>\n",
       "      <td>421.9</td>\n",
       "      <td>380.2</td>\n",
       "    </tr>\n",
       "    <tr>\n",
       "      <th>Bukit Timah</th>\n",
       "      <td>963.4</td>\n",
       "      <td>930.5</td>\n",
       "      <td>1035.2</td>\n",
       "      <td>1149.5</td>\n",
       "      <td>1132.3</td>\n",
       "      <td>1173.7</td>\n",
       "      <td>1101.2</td>\n",
       "      <td>1051.2</td>\n",
       "      <td>1039</td>\n",
       "      <td>1109.4</td>\n",
       "      <td>...</td>\n",
       "      <td>911.5</td>\n",
       "      <td>951</td>\n",
       "      <td>916.9</td>\n",
       "      <td>834.9</td>\n",
       "      <td>797.2</td>\n",
       "      <td>760.7</td>\n",
       "      <td>876.8</td>\n",
       "      <td>1012.1</td>\n",
       "      <td>938.6</td>\n",
       "      <td>856.5</td>\n",
       "    </tr>\n",
       "  </tbody>\n",
       "</table>\n",
       "<p>5 rows × 234 columns</p>\n",
       "</div>"
      ],
      "text/plain": [
       "               2005-01-01 2005-02-01 2005-03-01 2005-04-01 2005-05-01  \\\n",
       "Overall             418.1      408.3      446.9      496.2      496.8   \n",
       "Central Region      485.4        459      500.2      566.4      573.3   \n",
       "Bishan              433.6      420.5      479.2      513.5      516.3   \n",
       "Bukit Merah           320      264.9      292.4      358.7      354.2   \n",
       "Bukit Timah         963.4      930.5     1035.2     1149.5     1132.3   \n",
       "\n",
       "               2005-06-01 2005-07-01 2005-08-01 2005-09-01 2005-10-01  ...  \\\n",
       "Overall             519.7      497.7      489.3      477.7      480.8  ...   \n",
       "Central Region      590.1      568.3      551.7      539.5      557.6  ...   \n",
       "Bishan                545      522.6      507.7      505.8        508  ...   \n",
       "Bukit Merah           350      358.4      337.8      343.2      344.9  ...   \n",
       "Bukit Timah        1173.7     1101.2     1051.2       1039     1109.4  ...   \n",
       "\n",
       "               2023-09-01 2023-10-01 2023-11-01 2023-12-01 2024-01-01  \\\n",
       "Overall             449.7        463      457.3      415.9      384.1   \n",
       "Central Region      505.4      523.1      527.6      481.4      442.7   \n",
       "Bishan                463      495.7      471.5      429.1      379.6   \n",
       "Bukit Merah         368.9      364.2      384.9      346.4      341.6   \n",
       "Bukit Timah         911.5        951      916.9      834.9      797.2   \n",
       "\n",
       "               2024-02-01 2024-03-01 2024-04-01 2024-05-01 2024-06-01  \n",
       "Overall             394.9      423.7        491      482.9      464.1  \n",
       "Central Region      436.7      478.9      553.5      558.8      524.8  \n",
       "Bishan              416.1      471.4        498      485.4      489.9  \n",
       "Bukit Merah         301.1      330.2      389.9      421.9      380.2  \n",
       "Bukit Timah         760.7      876.8     1012.1      938.6      856.5  \n",
       "\n",
       "[5 rows x 234 columns]"
      ]
     },
     "execution_count": 170,
     "metadata": {},
     "output_type": "execute_result"
    }
   ],
   "source": [
    "df = pd.read_csv('data/region_monthly_electricity_consumption.csv', index_col=0)\n",
    "\n",
    "df.head()"
   ]
  },
  {
   "cell_type": "code",
   "execution_count": 171,
   "metadata": {},
   "outputs": [
    {
     "data": {
      "text/plain": [
       "Index(['Overall', 'Central Region', 'Bishan', 'Bukit Merah', 'Bukit Timah',\n",
       "       'Downtown Core', 'Geylang', 'Kallang', 'Marine Parade', 'Museum',\n",
       "       'Newton', 'Novena', 'Orchard', 'Outram', 'Queenstown', 'River Valley',\n",
       "       'Rochor', 'Singapore River', 'Southern Islands', 'Tanglin', 'Toa Payoh',\n",
       "       'East Region', 'Bedok', 'Changi', 'Pasir Ris', 'Paya Lebar', 'Tampines',\n",
       "       'North East Region', 'Ang Mo Kio', 'Hougang', 'Punggol', 'Seletar',\n",
       "       'Sengkang', 'Serangoon', 'North Region', 'Mandai', 'Sembawang',\n",
       "       'Sungei Kadut', 'Woodlands', 'Yishun', 'West Region', 'Bukit Batok',\n",
       "       'Bukit Panjang', 'Choa Chu Kang', 'Clementi', 'Jurong East',\n",
       "       'Jurong West', 'Pioneer', 'Tengah'],\n",
       "      dtype='object')"
      ]
     },
     "execution_count": 171,
     "metadata": {},
     "output_type": "execute_result"
    }
   ],
   "source": [
    "df.index"
   ]
  },
  {
   "cell_type": "code",
   "execution_count": null,
   "metadata": {},
   "outputs": [],
   "source": [
    "df_long, df_stats = forecasting.prepare_electricity_data(df=df)\n",
    "df_long"
   ]
  },
  {
   "cell_type": "code",
   "execution_count": null,
   "metadata": {},
   "outputs": [],
   "source": [
    "seasonality_df = forecasting.analyze_seasonality(df_long=df_long)\n",
    "\n",
    "peak_counts = seasonality_df['peak_month'].value_counts()\n",
    "low_counts = seasonality_df['low_month'].value_counts()\n",
    "\n",
    "months_df = pd.DataFrame({\n",
    "    'Month': peak_counts.index.append(low_counts.index),\n",
    "    'Type': ['Peak'] * len(peak_counts) + ['Low'] * len(low_counts),\n",
    "    'Count': pd.concat([peak_counts, low_counts]).values\n",
    "})\n",
    "\n",
    "# Plotting the results\n",
    "plt.figure(figsize=(10, 6))\n",
    "sns.barplot(data=months_df, x='Month', y='Count', hue='Type', palette='pastel')\n",
    "plt.title('Frequency of Peak and Low Months Across Regions')\n",
    "plt.ylabel('Count')\n",
    "plt.xlabel('Month')\n",
    "plt.xticks(rotation=45)\n",
    "plt.legend(title='Month Type')\n",
    "\n",
    "plt.savefig('output/peak_low_months_frequency.png')\n",
    "plt.show()"
   ]
  },
  {
   "cell_type": "code",
   "execution_count": null,
   "metadata": {},
   "outputs": [],
   "source": [
    "anomalies = forecasting.identify_anomalies(df_long=df_long, z_score_threshold=3)\n",
    "top_10_anomalous_regions = anomalies.groupby('region')['region'].value_counts().sort_values(ascending=False)[:10]\n",
    "top_10_anomalous_regions"
   ]
  },
  {
   "cell_type": "code",
   "execution_count": null,
   "metadata": {},
   "outputs": [],
   "source": [
    "forecasting.plot_anomalies(df_long=df_long, anomalies=anomalies, regions_to_plot=top_10_anomalous_regions.index, save=True)"
   ]
  },
  {
   "cell_type": "markdown",
   "metadata": {},
   "source": [
    "Many anomalies during Covid period. High electricity consumption due to the lockdown. Tengah anomalies are due to the region being a new BTO estate."
   ]
  },
  {
   "cell_type": "code",
   "execution_count": null,
   "metadata": {},
   "outputs": [],
   "source": [
    "print(f\"Earliest Date: {min(df_long['date'])}\")\n",
    "print(f\"Latest Date: {max(df_long['date'])}\")"
   ]
  },
  {
   "cell_type": "code",
   "execution_count": null,
   "metadata": {},
   "outputs": [],
   "source": [
    "print(\"=== Top 10 Regions with Highest Electricity Consumption ===\\n\")\n",
    "df_long.groupby(['region_category','region'])['consumption'].mean().sort_values(ascending=False)[:10]\n"
   ]
  },
  {
   "cell_type": "code",
   "execution_count": null,
   "metadata": {},
   "outputs": [],
   "source": [
    "# Run the forecasting\n",
    "results = forecasting.train_forecasting_model(df_long=df_long, region_category='Region')\n",
    "\n",
    "\n",
    "# Print metrics\n",
    "metrics_df = forecasting.print_metrics(results)\n",
    "print(\"\\nModel Performance Metrics:\")\n",
    "print(metrics_df)\n",
    "\n",
    "# Plot forecasts for key regions\n",
    "regions_to_plot = metrics_df['Region']\n",
    "fig = forecasting.plot_forecasts(results=results, regions_to_plot=regions_to_plot, save=True)\n",
    "plt.show()\n",
    "\n",
    "# Get future predictions for Overall consumption\n",
    "overall_forecast = results['Overall']['forecast'].tail(6)[['ds', 'yhat', 'yhat_lower', 'yhat_upper']]\n",
    "print(\"\\nForecast for Overall consumption (next 6 months):\")\n",
    "print(overall_forecast.round(2))\n"
   ]
  },
  {
   "cell_type": "code",
   "execution_count": null,
   "metadata": {},
   "outputs": [],
   "source": [
    "results['Overall']"
   ]
  },
  {
   "cell_type": "code",
   "execution_count": null,
   "metadata": {},
   "outputs": [],
   "source": [
    "results['Overall']['forecast']"
   ]
  },
  {
   "cell_type": "code",
   "execution_count": null,
   "metadata": {},
   "outputs": [],
   "source": []
  }
 ],
 "metadata": {
  "kernelspec": {
   "display_name": "Python 3",
   "language": "python",
   "name": "python3"
  },
  "language_info": {
   "codemirror_mode": {
    "name": "ipython",
    "version": 3
   },
   "file_extension": ".py",
   "mimetype": "text/x-python",
   "name": "python",
   "nbconvert_exporter": "python",
   "pygments_lexer": "ipython3",
   "version": "3.11.10"
  }
 },
 "nbformat": 4,
 "nbformat_minor": 2
}
